{
  "nbformat": 4,
  "nbformat_minor": 0,
  "metadata": {
    "colab": {
      "provenance": [],
      "authorship_tag": "ABX9TyMBwGnYRFXwOus/rNgjLjMz",
      "include_colab_link": true
    },
    "kernelspec": {
      "name": "python3",
      "display_name": "Python 3"
    },
    "language_info": {
      "name": "python"
    }
  },
  "cells": [
    {
      "cell_type": "markdown",
      "metadata": {
        "id": "view-in-github",
        "colab_type": "text"
      },
      "source": [
        "<a href=\"https://colab.research.google.com/github/a01137646/NA_Proyecto_Final_Equipo21/blob/main/Proyecto_Final_Equipo21_borrador2_udacity.ipynb\" target=\"_parent\"><img src=\"https://colab.research.google.com/assets/colab-badge.svg\" alt=\"Open In Colab\"/></a>"
      ]
    },
    {
      "cell_type": "code",
      "execution_count": 1,
      "metadata": {
        "id": "5g7YzEkdxcst"
      },
      "outputs": [],
      "source": [
        "import numpy as np\n",
        "import matplotlib.pyplot as plt\n",
        "import cv2\n",
        "import pandas as pd\n",
        "import random\n",
        "import os\n",
        "import ntpath\n",
        "from sklearn.utils import shuffle\n",
        "from sklearn.model_selection import train_test_split\n",
        "import matplotlib.image as mpimg\n",
        "from imgaug import augmenters as iaa\n",
        "import glob\n",
        "\n",
        "\n",
        "import tensorflow as tf\n",
        "from tensorflow.keras.models import Sequential, Model\n",
        "from tensorflow.keras.optimizers import Adamax, Adam\n",
        "from tensorflow.keras.layers import Dense, Dropout, Conv2D, MaxPooling2D, Flatten, AveragePooling2D, MaxPooling2D"
      ]
    },
    {
      "cell_type": "code",
      "source": [
        "datadir = './Documents/GitHub/NA_Proyecto_Final_Equipo21/DATA/'\n",
        "list_folders = glob.glob(datadir + '*')\n",
        "\n",
        "columns = ['center', 'left', 'right', 'steering', 'throttle', 'reverse', 'speed']\n",
        "data = pd.DataFrame()\n",
        "for path in list_folders:\n",
        "  data_temp = pd.read_csv(os.path.join(path, 'driving_log.csv'), names = columns)\n",
        "  data = pd.concat([data,data_temp], ignore_index=True)\n",
        "\n",
        "#del(data_temp)\n",
        "print('Cantidad de registros:',len(data.index))\n",
        "data.head()"
      ],
      "metadata": {
        "id": "e31R5tN8z94E",
        "outputId": "062e401c-5dd5-4ff6-c50b-c8bdbca990bc",
        "colab": {
          "base_uri": "https://localhost:8080/",
          "height": 224
        }
      },
      "execution_count": 2,
      "outputs": [
        {
          "output_type": "stream",
          "name": "stdout",
          "text": [
            "Cantidad de registros: 9103\n"
          ]
        },
        {
          "output_type": "execute_result",
          "data": {
            "text/plain": [
              "                                              center  \\\n",
              "0  C:\\Users\\G\\Downloads\\simulator-windows-64\\DATA...   \n",
              "1  C:\\Users\\G\\Downloads\\simulator-windows-64\\DATA...   \n",
              "2  C:\\Users\\G\\Downloads\\simulator-windows-64\\DATA...   \n",
              "3  C:\\Users\\G\\Downloads\\simulator-windows-64\\DATA...   \n",
              "4  C:\\Users\\G\\Downloads\\simulator-windows-64\\DATA...   \n",
              "\n",
              "                                                left  \\\n",
              "0   C:\\Users\\G\\Downloads\\simulator-windows-64\\DAT...   \n",
              "1   C:\\Users\\G\\Downloads\\simulator-windows-64\\DAT...   \n",
              "2   C:\\Users\\G\\Downloads\\simulator-windows-64\\DAT...   \n",
              "3   C:\\Users\\G\\Downloads\\simulator-windows-64\\DAT...   \n",
              "4   C:\\Users\\G\\Downloads\\simulator-windows-64\\DAT...   \n",
              "\n",
              "                                               right  steering  throttle  \\\n",
              "0   C:\\Users\\G\\Downloads\\simulator-windows-64\\DAT...       0.0  0.000000   \n",
              "1   C:\\Users\\G\\Downloads\\simulator-windows-64\\DAT...       0.0  0.000000   \n",
              "2   C:\\Users\\G\\Downloads\\simulator-windows-64\\DAT...       0.0  0.000000   \n",
              "3   C:\\Users\\G\\Downloads\\simulator-windows-64\\DAT...       0.0  0.127203   \n",
              "4   C:\\Users\\G\\Downloads\\simulator-windows-64\\DAT...       0.0  0.427562   \n",
              "\n",
              "   reverse     speed  \n",
              "0        0  0.000082  \n",
              "1        0  0.000083  \n",
              "2        0  0.000082  \n",
              "3        0  0.054509  \n",
              "4        0  0.410255  "
            ],
            "text/html": [
              "<div>\n",
              "<style scoped>\n",
              "    .dataframe tbody tr th:only-of-type {\n",
              "        vertical-align: middle;\n",
              "    }\n",
              "\n",
              "    .dataframe tbody tr th {\n",
              "        vertical-align: top;\n",
              "    }\n",
              "\n",
              "    .dataframe thead th {\n",
              "        text-align: right;\n",
              "    }\n",
              "</style>\n",
              "<table border=\"1\" class=\"dataframe\">\n",
              "  <thead>\n",
              "    <tr style=\"text-align: right;\">\n",
              "      <th></th>\n",
              "      <th>center</th>\n",
              "      <th>left</th>\n",
              "      <th>right</th>\n",
              "      <th>steering</th>\n",
              "      <th>throttle</th>\n",
              "      <th>reverse</th>\n",
              "      <th>speed</th>\n",
              "    </tr>\n",
              "  </thead>\n",
              "  <tbody>\n",
              "    <tr>\n",
              "      <th>0</th>\n",
              "      <td>C:\\Users\\G\\Downloads\\simulator-windows-64\\DATA...</td>\n",
              "      <td>C:\\Users\\G\\Downloads\\simulator-windows-64\\DAT...</td>\n",
              "      <td>C:\\Users\\G\\Downloads\\simulator-windows-64\\DAT...</td>\n",
              "      <td>0.0</td>\n",
              "      <td>0.000000</td>\n",
              "      <td>0</td>\n",
              "      <td>0.000082</td>\n",
              "    </tr>\n",
              "    <tr>\n",
              "      <th>1</th>\n",
              "      <td>C:\\Users\\G\\Downloads\\simulator-windows-64\\DATA...</td>\n",
              "      <td>C:\\Users\\G\\Downloads\\simulator-windows-64\\DAT...</td>\n",
              "      <td>C:\\Users\\G\\Downloads\\simulator-windows-64\\DAT...</td>\n",
              "      <td>0.0</td>\n",
              "      <td>0.000000</td>\n",
              "      <td>0</td>\n",
              "      <td>0.000083</td>\n",
              "    </tr>\n",
              "    <tr>\n",
              "      <th>2</th>\n",
              "      <td>C:\\Users\\G\\Downloads\\simulator-windows-64\\DATA...</td>\n",
              "      <td>C:\\Users\\G\\Downloads\\simulator-windows-64\\DAT...</td>\n",
              "      <td>C:\\Users\\G\\Downloads\\simulator-windows-64\\DAT...</td>\n",
              "      <td>0.0</td>\n",
              "      <td>0.000000</td>\n",
              "      <td>0</td>\n",
              "      <td>0.000082</td>\n",
              "    </tr>\n",
              "    <tr>\n",
              "      <th>3</th>\n",
              "      <td>C:\\Users\\G\\Downloads\\simulator-windows-64\\DATA...</td>\n",
              "      <td>C:\\Users\\G\\Downloads\\simulator-windows-64\\DAT...</td>\n",
              "      <td>C:\\Users\\G\\Downloads\\simulator-windows-64\\DAT...</td>\n",
              "      <td>0.0</td>\n",
              "      <td>0.127203</td>\n",
              "      <td>0</td>\n",
              "      <td>0.054509</td>\n",
              "    </tr>\n",
              "    <tr>\n",
              "      <th>4</th>\n",
              "      <td>C:\\Users\\G\\Downloads\\simulator-windows-64\\DATA...</td>\n",
              "      <td>C:\\Users\\G\\Downloads\\simulator-windows-64\\DAT...</td>\n",
              "      <td>C:\\Users\\G\\Downloads\\simulator-windows-64\\DAT...</td>\n",
              "      <td>0.0</td>\n",
              "      <td>0.427562</td>\n",
              "      <td>0</td>\n",
              "      <td>0.410255</td>\n",
              "    </tr>\n",
              "  </tbody>\n",
              "</table>\n",
              "</div>"
            ]
          },
          "metadata": {},
          "execution_count": 2
        }
      ]
    },
    {
      "cell_type": "code",
      "source": [
        "def path_leaf(path):\n",
        "    return '/'.join(path.split('\\\\')[-3:])\n",
        "\n",
        "data['center'] = data['center'].apply(path_leaf)\n",
        "data['left'] = data['left'].apply(path_leaf)\n",
        "data['right'] = data['right'].apply(path_leaf)\n",
        "data.head()"
      ],
      "metadata": {
        "id": "FCW2sr6Ly6Gh",
        "outputId": "2f740c02-7d29-450d-f064-dc6ac46534f3",
        "colab": {
          "base_uri": "https://localhost:8080/",
          "height": 206
        }
      },
      "execution_count": 3,
      "outputs": [
        {
          "output_type": "execute_result",
          "data": {
            "text/plain": [
              "                                         center  \\\n",
              "0  LAP 1/IMG/center_2023_06_09_12_53_24_129.jpg   \n",
              "1  LAP 1/IMG/center_2023_06_09_12_53_24_234.jpg   \n",
              "2  LAP 1/IMG/center_2023_06_09_12_53_24_336.jpg   \n",
              "3  LAP 1/IMG/center_2023_06_09_12_53_24_442.jpg   \n",
              "4  LAP 1/IMG/center_2023_06_09_12_53_24_542.jpg   \n",
              "\n",
              "                                         left  \\\n",
              "0  LAP 1/IMG/left_2023_06_09_12_53_24_129.jpg   \n",
              "1  LAP 1/IMG/left_2023_06_09_12_53_24_234.jpg   \n",
              "2  LAP 1/IMG/left_2023_06_09_12_53_24_336.jpg   \n",
              "3  LAP 1/IMG/left_2023_06_09_12_53_24_442.jpg   \n",
              "4  LAP 1/IMG/left_2023_06_09_12_53_24_542.jpg   \n",
              "\n",
              "                                         right  steering  throttle  reverse  \\\n",
              "0  LAP 1/IMG/right_2023_06_09_12_53_24_129.jpg       0.0  0.000000        0   \n",
              "1  LAP 1/IMG/right_2023_06_09_12_53_24_234.jpg       0.0  0.000000        0   \n",
              "2  LAP 1/IMG/right_2023_06_09_12_53_24_336.jpg       0.0  0.000000        0   \n",
              "3  LAP 1/IMG/right_2023_06_09_12_53_24_442.jpg       0.0  0.127203        0   \n",
              "4  LAP 1/IMG/right_2023_06_09_12_53_24_542.jpg       0.0  0.427562        0   \n",
              "\n",
              "      speed  \n",
              "0  0.000082  \n",
              "1  0.000083  \n",
              "2  0.000082  \n",
              "3  0.054509  \n",
              "4  0.410255  "
            ],
            "text/html": [
              "<div>\n",
              "<style scoped>\n",
              "    .dataframe tbody tr th:only-of-type {\n",
              "        vertical-align: middle;\n",
              "    }\n",
              "\n",
              "    .dataframe tbody tr th {\n",
              "        vertical-align: top;\n",
              "    }\n",
              "\n",
              "    .dataframe thead th {\n",
              "        text-align: right;\n",
              "    }\n",
              "</style>\n",
              "<table border=\"1\" class=\"dataframe\">\n",
              "  <thead>\n",
              "    <tr style=\"text-align: right;\">\n",
              "      <th></th>\n",
              "      <th>center</th>\n",
              "      <th>left</th>\n",
              "      <th>right</th>\n",
              "      <th>steering</th>\n",
              "      <th>throttle</th>\n",
              "      <th>reverse</th>\n",
              "      <th>speed</th>\n",
              "    </tr>\n",
              "  </thead>\n",
              "  <tbody>\n",
              "    <tr>\n",
              "      <th>0</th>\n",
              "      <td>LAP 1/IMG/center_2023_06_09_12_53_24_129.jpg</td>\n",
              "      <td>LAP 1/IMG/left_2023_06_09_12_53_24_129.jpg</td>\n",
              "      <td>LAP 1/IMG/right_2023_06_09_12_53_24_129.jpg</td>\n",
              "      <td>0.0</td>\n",
              "      <td>0.000000</td>\n",
              "      <td>0</td>\n",
              "      <td>0.000082</td>\n",
              "    </tr>\n",
              "    <tr>\n",
              "      <th>1</th>\n",
              "      <td>LAP 1/IMG/center_2023_06_09_12_53_24_234.jpg</td>\n",
              "      <td>LAP 1/IMG/left_2023_06_09_12_53_24_234.jpg</td>\n",
              "      <td>LAP 1/IMG/right_2023_06_09_12_53_24_234.jpg</td>\n",
              "      <td>0.0</td>\n",
              "      <td>0.000000</td>\n",
              "      <td>0</td>\n",
              "      <td>0.000083</td>\n",
              "    </tr>\n",
              "    <tr>\n",
              "      <th>2</th>\n",
              "      <td>LAP 1/IMG/center_2023_06_09_12_53_24_336.jpg</td>\n",
              "      <td>LAP 1/IMG/left_2023_06_09_12_53_24_336.jpg</td>\n",
              "      <td>LAP 1/IMG/right_2023_06_09_12_53_24_336.jpg</td>\n",
              "      <td>0.0</td>\n",
              "      <td>0.000000</td>\n",
              "      <td>0</td>\n",
              "      <td>0.000082</td>\n",
              "    </tr>\n",
              "    <tr>\n",
              "      <th>3</th>\n",
              "      <td>LAP 1/IMG/center_2023_06_09_12_53_24_442.jpg</td>\n",
              "      <td>LAP 1/IMG/left_2023_06_09_12_53_24_442.jpg</td>\n",
              "      <td>LAP 1/IMG/right_2023_06_09_12_53_24_442.jpg</td>\n",
              "      <td>0.0</td>\n",
              "      <td>0.127203</td>\n",
              "      <td>0</td>\n",
              "      <td>0.054509</td>\n",
              "    </tr>\n",
              "    <tr>\n",
              "      <th>4</th>\n",
              "      <td>LAP 1/IMG/center_2023_06_09_12_53_24_542.jpg</td>\n",
              "      <td>LAP 1/IMG/left_2023_06_09_12_53_24_542.jpg</td>\n",
              "      <td>LAP 1/IMG/right_2023_06_09_12_53_24_542.jpg</td>\n",
              "      <td>0.0</td>\n",
              "      <td>0.427562</td>\n",
              "      <td>0</td>\n",
              "      <td>0.410255</td>\n",
              "    </tr>\n",
              "  </tbody>\n",
              "</table>\n",
              "</div>"
            ]
          },
          "metadata": {},
          "execution_count": 3
        }
      ]
    },
    {
      "cell_type": "code",
      "source": [
        "num_bins = 25\n",
        "\n",
        "samples_per_bin = 350\n",
        "\n",
        "hist, bins = np.histogram(data['steering'], num_bins)\n",
        "center = (bins[:-1]+ bins[1:]) * 0.5\n",
        "plt.bar(center, hist, width=0.05)\n",
        "plt.plot((np.min(data['steering']), np.max(data['steering'])), (samples_per_bin, samples_per_bin))"
      ],
      "metadata": {
        "id": "Mi6_Z4fi4h7v",
        "outputId": "e8803468-7210-44ea-d15c-6103c606f5a2",
        "colab": {
          "base_uri": "https://localhost:8080/",
          "height": 451
        }
      },
      "execution_count": 4,
      "outputs": [
        {
          "output_type": "execute_result",
          "data": {
            "text/plain": [
              "[<matplotlib.lines.Line2D at 0x14d53f36940>]"
            ]
          },
          "metadata": {},
          "execution_count": 4
        },
        {
          "output_type": "display_data",
          "data": {
            "text/plain": [
              "<Figure size 640x480 with 1 Axes>"
            ],
            "image/png": "[encoded data removed]"
          },
          "metadata": {}
        }
      ]
    },
    {
      "cell_type": "code",
      "source": [
        "print('total data:', len(data))\n",
        "remove_list = []\n",
        "for j in range(num_bins):\n",
        "    list_ = []\n",
        "    for i in range(len(data['steering'])):\n",
        "        if data['steering'][i] >= bins[j] and data['steering'][i] <= bins[j+1]:\n",
        "            list_.append(i)\n",
        "    list_ = shuffle(list_)\n",
        "    list_ = list_[samples_per_bin:]\n",
        "    remove_list.extend(list_)\n",
        "\n",
        "print('removed:', len(remove_list))\n",
        "data.drop(data.index[remove_list], inplace=True)\n",
        "print('remaining:', len(data))\n",
        "\n",
        "hist, _ = np.histogram(data['steering'], (num_bins))\n",
        "plt.bar(center, hist, width=0.05)\n",
        "plt.plot((np.min(data['steering']), np.max(data['steering'])), (samples_per_bin, samples_per_bin))"
      ],
      "metadata": {
        "id": "CvY8pYTS49Hy",
        "outputId": "609a160c-d1a6-40f1-8143-95953be6137b",
        "colab": {
          "base_uri": "https://localhost:8080/"
        }
      },
      "execution_count": null,
      "outputs": [
        {
          "output_type": "stream",
          "name": "stdout",
          "text": [
            "total data: 9103\n"
          ]
        }
      ]
    },
    {
      "cell_type": "code",
      "source": [
        "#print(data.iloc[1])\n",
        "def load_img_steering(datadir, df):\n",
        "    image_path = []\n",
        "    steering = []\n",
        "    for i in range(len(data)):\n",
        "        indexed_data = data.iloc[i]\n",
        "        #center, left, right = indexed_data[0], indexed_data[1], indexed_data[2]\n",
        "        center = indexed_data[0]\n",
        "        image_path.append(os.path.join(datadir, center.strip()))\n",
        "        steering.append(float(indexed_data[3]))\n",
        "        # left image append\n",
        "        #image_path.append(os.path.join(datadir,left.strip()))\n",
        "        #steering.append(float(indexed_data[3])+0.15)\n",
        "        # right image append\n",
        "        #image_path.append(os.path.join(datadir,right.strip()))\n",
        "        #steering.append(float(indexed_data[3])-0.15)\n",
        "    image_paths = np.asarray(image_path)\n",
        "    steerings = np.asarray(steering)\n",
        "    return image_paths, steerings\n",
        "\n",
        "image_paths, steerings = load_img_steering(datadir, data)"
      ],
      "metadata": {
        "id": "SvYKDq715Pe1"
      },
      "execution_count": null,
      "outputs": []
    },
    {
      "cell_type": "code",
      "source": [
        "def img_perspective(image, steering, orientation, angle, multiplier):\n",
        "    height,width, ch = image.shape\n",
        "\n",
        "    if orientation == 'left':\n",
        "      pts1 = np.float32([[0,0],[0,height],[width,height-height*angle],[width,height*angle]])\n",
        "      pts2 = np.float32([[0,0],[0,height],[width,height],[width,0]])\n",
        "      steering = steering - angle*multiplier\n",
        "    else:\n",
        "      pts1 = np.float32([[0,height*angle],[0,height-height*angle],[width,height],[width,0]])\n",
        "      pts2 = np.float32([[0,0],[0,height],[width,height],[width,0]])\n",
        "      steering = steering + angle*multiplier\n",
        "    M = cv2.getPerspectiveTransform(pts1,pts2)\n",
        "    image = cv2.warpPerspective(image,M,(width,height))\n",
        "    return image, steering\n",
        "\n",
        "def img_flip(image, steering_angle):\n",
        "    image = cv2.flip(image,1)\n",
        "    steering_angle = -steering_angle\n",
        "    return image, steering_angle"
      ],
      "metadata": {
        "id": "WKXV6pZFKsVZ"
      },
      "execution_count": null,
      "outputs": []
    },
    {
      "cell_type": "code",
      "source": [
        "image_paths_temp = list(image_paths)\n",
        "steerings_temp = list(steerings)\n",
        "\n",
        "for i in range(len(image_paths)):\n",
        "  img = mpimg.imread(image_paths[i])\n",
        "  rand1 = random.randrange(20, 35)/100\n",
        "  img_left_1, steering_left_1 = img_perspective(img,steerings[i],'left',rand1,1.5)\n",
        "  img_right_1, steering_right_1 = img_perspective(img,steerings[i],'right',rand1,1.5)\n",
        "  path_left_1 = image_paths[i][:-4]+'_left_1'+image_paths[i][-4:]\n",
        "  path_right_1 = image_paths[i][:-4]+'_right_1'+image_paths[i][-4:]\n",
        "  mpimg.imsave(path_left_1,img_left_1); image_paths_temp.append(path_left_1); steerings_temp.append(steering_left_1)\n",
        "  mpimg.imsave(path_right_1,img_right_1); image_paths_temp.append(path_right_1); steerings_temp.append(steering_right_1)\n",
        "  rand2 = random.randrange(35, 45)/100\n",
        "  img_left_2, steering_left_2 = img_perspective(img,steerings[i],'left',rand2,2)\n",
        "  img_right_2, steering_right_2 = img_perspective(img,steerings[i],'right',rand2,2)\n",
        "  path_left_2 = image_paths[i][:-4]+'_left_2'+image_paths[i][-4:]\n",
        "  path_right_2 = image_paths[i][:-4]+'_right_2'+image_paths[i][-4:]\n",
        "  mpimg.imsave(path_left_2,img_left_2); image_paths_temp.append(path_left_2); steerings_temp.append(steering_left_2)\n",
        "  mpimg.imsave(path_right_2,img_right_2); image_paths_temp.append(path_right_2); steerings_temp.append(steering_right_2)\n",
        "\n",
        "length = len(image_paths_temp)\n",
        "for i in range(length):\n",
        "  if steerings_temp[i] != 0:\n",
        "    img_path = image_paths_temp[i]\n",
        "    img = mpimg.imread(img_path)\n",
        "    img, new_steering = img_flip(img,steerings_temp[i])\n",
        "    new_path = img_path[:-4]+'_flipped'+img_path[-4:]\n",
        "    mpimg.imsave(new_path,img)\n",
        "    image_paths_temp.append(new_path); steerings_temp.append(new_steering)\n",
        "\n",
        "image_paths = np.array(image_paths_temp)\n",
        "steerings = np.array(steerings_temp)"
      ],
      "metadata": {
        "id": "QiqGG-NIJ-vJ"
      },
      "execution_count": null,
      "outputs": []
    },
    {
      "cell_type": "code",
      "source": [
        "X_train, X_valid, y_train, y_valid = train_test_split(image_paths, steerings, test_size=0.2, random_state=6)\n",
        "print('Training Samples: {}\\nValid Samples: {}'.format(len(X_train), len(X_valid)))"
      ],
      "metadata": {
        "id": "hRSvIex75ZtU"
      },
      "execution_count": null,
      "outputs": []
    },
    {
      "cell_type": "code",
      "source": [
        "fig, axes = plt.subplots(1, 2, figsize=(12, 4))\n",
        "axes[0].hist(y_train, bins=num_bins, width=0.05, color='blue')\n",
        "axes[0].set_title('Training set')\n",
        "axes[1].hist(y_valid, bins=num_bins, width=0.05, color='red')\n",
        "axes[1].set_title('Validation set')"
      ],
      "metadata": {
        "id": "j0VbA__18dTl"
      },
      "execution_count": null,
      "outputs": []
    },
    {
      "cell_type": "code",
      "source": [
        "def zoom(image):\n",
        "    zoom = iaa.Affine(scale=(1, 1.25))\n",
        "    image = zoom.augment_image(image)\n",
        "    return image\n",
        "\n",
        "\n",
        "image = image_paths[random.randint(0, 1000)]\n",
        "original_image = mpimg.imread(image)\n",
        "zoomed_image = zoom(original_image)\n",
        "\n",
        "fig, axs = plt.subplots(1, 2, figsize=(15, 10))\n",
        "fig.tight_layout()\n",
        "\n",
        "axs[0].imshow(original_image)\n",
        "axs[0].set_title('Original Image')\n",
        "\n",
        "axs[1].imshow(zoomed_image)\n",
        "axs[1].set_title('Zoomed Image')"
      ],
      "metadata": {
        "id": "vwyxOGRL8v-l"
      },
      "execution_count": null,
      "outputs": []
    },
    {
      "cell_type": "code",
      "source": [
        "def pan(image):\n",
        "    pan = iaa.Affine(translate_percent= {\"x\" : (-0.1, 0.1), \"y\": (-0.1, 0.1)})\n",
        "    image = pan.augment_image(image)\n",
        "    return image\n",
        "\n",
        "\n",
        "image = image_paths[random.randint(0, 1000)]\n",
        "original_image = mpimg.imread(image)\n",
        "panned_image = pan(original_image)\n",
        "\n",
        "fig, axs = plt.subplots(1, 2, figsize=(15, 10))\n",
        "fig.tight_layout()\n",
        "\n",
        "axs[0].imshow(original_image)\n",
        "axs[0].set_title('Original Image')\n",
        "\n",
        "axs[1].imshow(panned_image)\n",
        "axs[1].set_title('Panned Image')"
      ],
      "metadata": {
        "id": "BHigS3tJ80gX"
      },
      "execution_count": null,
      "outputs": []
    },
    {
      "cell_type": "code",
      "source": [
        "def img_random_brightness(image):\n",
        "    brightness = iaa.Multiply((0.2, 0.5))\n",
        "    image = brightness.augment_image(image)\n",
        "    return image\n",
        "\n",
        "image = image_paths[random.randint(0, 1000)]\n",
        "original_image = mpimg.imread(image)\n",
        "brightness_altered_image = img_random_brightness(original_image)\n",
        "\n",
        "fig, axs = plt.subplots(1, 2, figsize=(15, 10))\n",
        "fig.tight_layout()\n",
        "\n",
        "axs[0].imshow(original_image)\n",
        "axs[0].set_title('Original Image')\n",
        "\n",
        "axs[1].imshow(brightness_altered_image)\n",
        "axs[1].set_title('Brightness altered image ')"
      ],
      "metadata": {
        "id": "NZa-Fmjk_572"
      },
      "execution_count": null,
      "outputs": []
    },
    {
      "cell_type": "code",
      "source": [
        "def img_random_flip(image, steering_angle):\n",
        "    image = cv2.flip(image,1)\n",
        "    steering_angle = -steering_angle\n",
        "    return image, steering_angle\n",
        "\n",
        "\n",
        "random_index = random.randint(0, 1000)\n",
        "image = image_paths[random_index]\n",
        "steering_angle = steerings[random_index]\n",
        "\n",
        "\n",
        "original_image = mpimg.imread(image)\n",
        "flipped_image, flipped_steering_angle = img_random_flip(original_image, steering_angle)\n",
        "\n",
        "fig, axs = plt.subplots(1, 2, figsize=(15, 10))\n",
        "fig.tight_layout()\n",
        "\n",
        "axs[0].imshow(original_image)\n",
        "axs[0].set_title('Original Image - ' + 'Steering Angle:' + str(steering_angle))\n",
        "\n",
        "axs[1].imshow(flipped_image)\n",
        "axs[1].set_title('Flipped Image - ' + 'Steering Angle:' + str(flipped_steering_angle))"
      ],
      "metadata": {
        "id": "flk-l0NDAWiK"
      },
      "execution_count": null,
      "outputs": []
    },
    {
      "cell_type": "code",
      "source": [
        "def random_augment(image, steering_angle):\n",
        "    image = mpimg.imread(image)\n",
        "    if np.random.rand() < 0.5:\n",
        "        image = pan(image)\n",
        "    if np.random.rand() < 0.5:\n",
        "        image = zoom(image)\n",
        "    if np.random.rand() < 0.5:\n",
        "        image = img_random_brightness(image)\n",
        "    if np.random.rand() < 0.5:\n",
        "        image, steering_angle = img_random_flip(image, steering_angle)\n",
        "    return image, steering_angle\n",
        "\n",
        "\n",
        "ncol = 2\n",
        "nrow = 10\n",
        "\n",
        "fig, axs = plt.subplots(nrow, ncol, figsize=(15, 50))\n",
        "fig.tight_layout()\n",
        "\n",
        "for i in range(10):\n",
        "    randnum = random.randint(0, len(image_paths) - 1)\n",
        "    random_image = image_paths[randnum]\n",
        "    random_steering = steerings[randnum]\n",
        "\n",
        "    original_image = mpimg.imread(random_image)\n",
        "    augmented_image, steering = random_augment(random_image, random_steering)\n",
        "\n",
        "    axs[i][0].imshow(original_image)\n",
        "    axs[i][0].set_title(\"Original Image\")\n",
        "\n",
        "    axs[i][1].imshow(augmented_image)\n",
        "    axs[i][1].set_title(\"Augmented Image\")"
      ],
      "metadata": {
        "id": "p63Qv0s3AdCN"
      },
      "execution_count": null,
      "outputs": []
    },
    {
      "cell_type": "code",
      "source": [
        "def img_preprocess(img):\n",
        "    img = img[60:135,:,:]\n",
        "    #brightness = iaa.Multiply(1.5)\n",
        "    #img = brightness.augment_image(img)\n",
        "    img = cv2.cvtColor(img, cv2.COLOR_RGB2YUV)\n",
        "    img = cv2.GaussianBlur(img, (3, 3), 0)\n",
        "    img = cv2.resize(img, (200, 66))\n",
        "    img = img/255\n",
        "\n",
        "    return img\n",
        "\n",
        "image = image_paths[300]\n",
        "original_image = mpimg.imread(image)\n",
        "preprocessed_image = img_preprocess(original_image)\n",
        "\n",
        "fig, axs = plt.subplots(1, 2, figsize=(15, 10))\n",
        "fig.tight_layout()\n",
        "axs[0].imshow(original_image)\n",
        "axs[0].set_title('Original Image')\n",
        "axs[1].imshow(preprocessed_image)\n",
        "axs[1].set_title('Preprocessed Image')"
      ],
      "metadata": {
        "id": "wjGELq5bAgsX"
      },
      "execution_count": null,
      "outputs": []
    },
    {
      "cell_type": "code",
      "source": [
        "def batch_generator(image_paths, steering_ang, batch_size, istraining):\n",
        "\n",
        "    while True:\n",
        "        batch_img =[]\n",
        "        batch_steering = []\n",
        "\n",
        "        for i in range(batch_size):\n",
        "\n",
        "            random_index = random.randint(0, len(image_paths) - 1)\n",
        "\n",
        "            if istraining:\n",
        "                im, steering = random_augment(image_paths[random_index], steering_ang[random_index])\n",
        "            else:\n",
        "                im = mpimg.imread(image_paths[random_index])\n",
        "                steering = steering_ang[random_index]\n",
        "\n",
        "            im = img_preprocess(im)\n",
        "            batch_img.append(im)\n",
        "            batch_steering.append(steering)\n",
        "\n",
        "        yield (np.asarray(batch_img), np.asarray(batch_steering))"
      ],
      "metadata": {
        "id": "69bzH3gsC6gq"
      },
      "execution_count": null,
      "outputs": []
    },
    {
      "cell_type": "code",
      "source": [
        "x_train_gen, y_train_gen = next(batch_generator(X_train, y_train, 1, 1))\n",
        "x_valid_gen, y_valid_gen = next(batch_generator(X_valid, y_valid, 1, 0))\n",
        "\n",
        "fig, axs = plt.subplots(1, 2, figsize=(15, 10))\n",
        "fig.tight_layout()\n",
        "\n",
        "axs[0].imshow(x_train_gen[0])\n",
        "axs[0].set_title('Training Image')\n",
        "\n",
        "axs[1].imshow(x_valid_gen[0])\n",
        "axs[1].set_title('Validation Image')"
      ],
      "metadata": {
        "id": "K5Fl14atC-sa"
      },
      "execution_count": null,
      "outputs": []
    },
    {
      "cell_type": "code",
      "source": [
        "def nvidia_model():\n",
        "    model = tf.keras.Sequential()\n",
        "    model.add(tf.keras.layers.Conv2D(filters = 24, kernel_size = (5, 5), strides=(2, 2), input_shape=(66, 200, 3), activation='elu'))\n",
        "    model.add(tf.keras.layers.Conv2D(filters = 36, kernel_size = (5, 5), strides=(2, 2), activation='elu'))\n",
        "    model.add(tf.keras.layers.Conv2D(filters = 48, kernel_size = (5, 5), strides=(2, 2), activation='elu'))\n",
        "    model.add(tf.keras.layers.Conv2D(filters = 64, kernel_size = (3, 3), activation='elu'))\n",
        "\n",
        "#filters = 32, kernel_size = (3, 3),\n",
        "#                     input_shape = tensor_X_train.shape[1:],\n",
        "#                     activation='relu', padding='same'\n",
        "\n",
        "    model.add(tf.keras.layers.Convolution2D(filters = 64, kernel_size = (3, 3), activation='elu'))\n",
        "    # model.add(tf.keras.layers.Dropout(0.5))\n",
        "\n",
        "\n",
        "    model.add(tf.keras.layers.Flatten())\n",
        "\n",
        "    model.add(tf.keras.layers.Dense(100, activation = 'elu'))\n",
        "\n",
        "    model.add(tf.keras.layers.Dense(50, activation = 'elu'))\n",
        "\n",
        "\n",
        "    model.add(tf.keras.layers.Dense(10, activation = 'elu'))\n",
        "\n",
        "\n",
        "    model.add(tf.keras.layers.Dense(1))\n",
        "\n",
        "    optimizer = Adam(lr=1e-3)\n",
        "    model.compile(loss='mse', optimizer=optimizer)\n",
        "    return model"
      ],
      "metadata": {
        "id": "FiVTsVsSDv3m"
      },
      "execution_count": null,
      "outputs": []
    },
    {
      "cell_type": "code",
      "source": [
        "model = nvidia_model()\n",
        "model.summary()"
      ],
      "metadata": {
        "id": "hWjjkAQ9D6ga"
      },
      "execution_count": null,
      "outputs": []
    },
    {
      "cell_type": "code",
      "source": [
        "batch_size = 200\n",
        "\n",
        "history = model.fit(batch_generator(X_train, y_train, batch_size, 1),\n",
        "                              steps_per_epoch=300,\n",
        "                              epochs=7,\n",
        "                              validation_data=batch_generator(X_valid, y_valid, 100, 0),\n",
        "                              validation_steps=200,\n",
        "                              verbose=1,\n",
        "                              shuffle = 1)"
      ],
      "metadata": {
        "id": "9_BWw929D7Dg"
      },
      "execution_count": null,
      "outputs": []
    },
    {
      "cell_type": "code",
      "source": [
        "plt.plot(history.history['loss'])\n",
        "plt.plot(history.history['val_loss'])\n",
        "plt.legend(['training', 'validation'])\n",
        "plt.title('Loss')\n",
        "plt.xlabel('Epoch')"
      ],
      "metadata": {
        "id": "YoiDuKXjGfjv"
      },
      "execution_count": null,
      "outputs": []
    },
    {
      "cell_type": "code",
      "source": [
        "model.save('./Documents/GitHub/NA_Proyecto_Final_Equipo21/model.h5')"
      ],
      "metadata": {
        "id": "lH5QmXTLGluY"
      },
      "execution_count": null,
      "outputs": []
    },
    {
      "cell_type": "code",
      "source": [
        "import socketio\n",
        "import eventlet\n",
        "import numpy as np\n",
        "from flask import Flask\n",
        "from keras.models import load_model\n",
        "import base64\n",
        "from io import BytesIO\n",
        "from PIL import Image\n",
        "import cv2"
      ],
      "metadata": {
        "id": "3Cinv_IOfutK"
      },
      "execution_count": null,
      "outputs": []
    },
    {
      "cell_type": "code",
      "source": [
        "sio = socketio.Server()\n",
        "\n",
        "app = Flask(__name__) #'__main__'\n",
        "speed_limit = 40\n",
        "def img_preprocess(img):\n",
        "    img = img[60:135,:,:]\n",
        "    #brightness = iaa.Multiply(1.5)\n",
        "    #img = brightness.augment_image(img)\n",
        "    img = cv2.cvtColor(img, cv2.COLOR_RGB2YUV)\n",
        "    img = cv2.GaussianBlur(img, (3, 3), 0)\n",
        "    img = cv2.resize(img, (200, 66))\n",
        "    img = img/255\n",
        "    #img = cv2.cvtColor(img,cv2.COLOR_RGB2YUV)\n",
        "    #brightness = iaa.Multiply((0.5, 0.5))\n",
        "    #img = brightness.augment_image(img)\n",
        "    #img = cv2.GaussianBlur(img,(3,3),0,0)\n",
        "    #img = cv2.resize(img, (200, 66))\n",
        "    #img = img/255\n",
        "    return img"
      ],
      "metadata": {
        "id": "LXucAehuf0rG"
      },
      "execution_count": null,
      "outputs": []
    },
    {
      "cell_type": "code",
      "source": [
        "@sio.on('telemetry')\n",
        "def telemetry(sid, data):\n",
        "    #print(np.asarray(Image.open(BytesIO(base64.b64decode(data['image'])))))\n",
        "    speed = float(data['speed'])\n",
        "    image = Image.open(BytesIO(base64.b64decode(data['image'])))\n",
        "    image = np.asarray(image)\n",
        "    image = img_preprocess(image)\n",
        "    image = np.array([image])\n",
        "    steering_angle = float(model.predict(image,verbose = 0))\n",
        "    throttle = 1.0 - speed/speed_limit\n",
        "    #print('{} {} {}'.format(steering_angle, throttle, speed))\n",
        "    send_control(steering_angle, throttle)"
      ],
      "metadata": {
        "id": "YgfoZq6EgVDn"
      },
      "execution_count": null,
      "outputs": []
    },
    {
      "cell_type": "code",
      "source": [
        "@sio.on('connect')\n",
        "def connect(sid, environ):\n",
        "    print('Connected')\n",
        "    send_control(0, 0)\n",
        "\n",
        "def send_control(steering_angle, throttle):\n",
        "    sio.emit('steer', data = {\n",
        "        'steering_angle': steering_angle.__str__(),\n",
        "        'throttle': throttle.__str__()\n",
        "    })"
      ],
      "metadata": {
        "id": "5GHIgsWogXGO"
      },
      "execution_count": null,
      "outputs": []
    },
    {
      "cell_type": "code",
      "source": [
        "if __name__ == '__main__':\n",
        "    model = load_model('./Documents/GitHub/NA_Proyecto_Final_Equipo21/model.h5')\n",
        "    app = socketio.Middleware(sio, app)\n",
        "    eventlet.wsgi.server(eventlet.listen(('', 4567)), app)"
      ],
      "metadata": {
        "id": "VgkV8j7kgY64"
      },
      "execution_count": null,
      "outputs": []
    },
    {
      "cell_type": "code",
      "source": [],
      "metadata": {
        "id": "wC6cNtHL8e3r"
      },
      "execution_count": null,
      "outputs": []
    }
  ]
}